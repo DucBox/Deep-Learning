{
  "cells": [
    {
      "cell_type": "markdown",
      "source": [
        "#Import Modules"
      ],
      "metadata": {
        "id": "vMEamT9yqd6e"
      }
    },
    {
      "cell_type": "code",
      "source": [
        "!pip install keras_spiking\n",
        "!pip install tensorflow==2.15.0"
      ],
      "metadata": {
        "id": "2vJbaBF3qkEr",
        "colab": {
          "base_uri": "https://localhost:8080/"
        },
        "collapsed": true,
        "outputId": "63aaef8b-ccf2-4ce7-a4df-934eb3aab0ac"
      },
      "execution_count": 2,
      "outputs": [
        {
          "output_type": "stream",
          "name": "stdout",
          "text": [
            "Collecting keras_spiking\n",
            "  Downloading keras_spiking-0.3.0-py3-none-any.whl.metadata (9.3 kB)\n",
            "Requirement already satisfied: numpy>=1.16.0 in /usr/local/lib/python3.10/dist-packages (from keras_spiking) (1.26.4)\n",
            "Requirement already satisfied: packaging>=20.0 in /usr/local/lib/python3.10/dist-packages (from keras_spiking) (24.1)\n",
            "Requirement already satisfied: tensorflow>=2.1.0 in /usr/local/lib/python3.10/dist-packages (from keras_spiking) (2.17.0)\n",
            "Requirement already satisfied: absl-py>=1.0.0 in /usr/local/lib/python3.10/dist-packages (from tensorflow>=2.1.0->keras_spiking) (1.4.0)\n",
            "Requirement already satisfied: astunparse>=1.6.0 in /usr/local/lib/python3.10/dist-packages (from tensorflow>=2.1.0->keras_spiking) (1.6.3)\n",
            "Requirement already satisfied: flatbuffers>=24.3.25 in /usr/local/lib/python3.10/dist-packages (from tensorflow>=2.1.0->keras_spiking) (24.3.25)\n",
            "Requirement already satisfied: gast!=0.5.0,!=0.5.1,!=0.5.2,>=0.2.1 in /usr/local/lib/python3.10/dist-packages (from tensorflow>=2.1.0->keras_spiking) (0.6.0)\n",
            "Requirement already satisfied: google-pasta>=0.1.1 in /usr/local/lib/python3.10/dist-packages (from tensorflow>=2.1.0->keras_spiking) (0.2.0)\n",
            "Requirement already satisfied: h5py>=3.10.0 in /usr/local/lib/python3.10/dist-packages (from tensorflow>=2.1.0->keras_spiking) (3.11.0)\n",
            "Requirement already satisfied: libclang>=13.0.0 in /usr/local/lib/python3.10/dist-packages (from tensorflow>=2.1.0->keras_spiking) (18.1.1)\n",
            "Requirement already satisfied: ml-dtypes<0.5.0,>=0.3.1 in /usr/local/lib/python3.10/dist-packages (from tensorflow>=2.1.0->keras_spiking) (0.4.1)\n",
            "Requirement already satisfied: opt-einsum>=2.3.2 in /usr/local/lib/python3.10/dist-packages (from tensorflow>=2.1.0->keras_spiking) (3.4.0)\n",
            "Requirement already satisfied: protobuf!=4.21.0,!=4.21.1,!=4.21.2,!=4.21.3,!=4.21.4,!=4.21.5,<5.0.0dev,>=3.20.3 in /usr/local/lib/python3.10/dist-packages (from tensorflow>=2.1.0->keras_spiking) (3.20.3)\n",
            "Requirement already satisfied: requests<3,>=2.21.0 in /usr/local/lib/python3.10/dist-packages (from tensorflow>=2.1.0->keras_spiking) (2.32.3)\n",
            "Requirement already satisfied: setuptools in /usr/local/lib/python3.10/dist-packages (from tensorflow>=2.1.0->keras_spiking) (75.1.0)\n",
            "Requirement already satisfied: six>=1.12.0 in /usr/local/lib/python3.10/dist-packages (from tensorflow>=2.1.0->keras_spiking) (1.16.0)\n",
            "Requirement already satisfied: termcolor>=1.1.0 in /usr/local/lib/python3.10/dist-packages (from tensorflow>=2.1.0->keras_spiking) (2.5.0)\n",
            "Requirement already satisfied: typing-extensions>=3.6.6 in /usr/local/lib/python3.10/dist-packages (from tensorflow>=2.1.0->keras_spiking) (4.12.2)\n",
            "Requirement already satisfied: wrapt>=1.11.0 in /usr/local/lib/python3.10/dist-packages (from tensorflow>=2.1.0->keras_spiking) (1.16.0)\n",
            "Requirement already satisfied: grpcio<2.0,>=1.24.3 in /usr/local/lib/python3.10/dist-packages (from tensorflow>=2.1.0->keras_spiking) (1.64.1)\n",
            "Requirement already satisfied: tensorboard<2.18,>=2.17 in /usr/local/lib/python3.10/dist-packages (from tensorflow>=2.1.0->keras_spiking) (2.17.0)\n",
            "Requirement already satisfied: keras>=3.2.0 in /usr/local/lib/python3.10/dist-packages (from tensorflow>=2.1.0->keras_spiking) (3.4.1)\n",
            "Requirement already satisfied: tensorflow-io-gcs-filesystem>=0.23.1 in /usr/local/lib/python3.10/dist-packages (from tensorflow>=2.1.0->keras_spiking) (0.37.1)\n",
            "Requirement already satisfied: wheel<1.0,>=0.23.0 in /usr/local/lib/python3.10/dist-packages (from astunparse>=1.6.0->tensorflow>=2.1.0->keras_spiking) (0.44.0)\n",
            "Requirement already satisfied: rich in /usr/local/lib/python3.10/dist-packages (from keras>=3.2.0->tensorflow>=2.1.0->keras_spiking) (13.9.3)\n",
            "Requirement already satisfied: namex in /usr/local/lib/python3.10/dist-packages (from keras>=3.2.0->tensorflow>=2.1.0->keras_spiking) (0.0.8)\n",
            "Requirement already satisfied: optree in /usr/local/lib/python3.10/dist-packages (from keras>=3.2.0->tensorflow>=2.1.0->keras_spiking) (0.13.0)\n",
            "Requirement already satisfied: charset-normalizer<4,>=2 in /usr/local/lib/python3.10/dist-packages (from requests<3,>=2.21.0->tensorflow>=2.1.0->keras_spiking) (3.4.0)\n",
            "Requirement already satisfied: idna<4,>=2.5 in /usr/local/lib/python3.10/dist-packages (from requests<3,>=2.21.0->tensorflow>=2.1.0->keras_spiking) (3.10)\n",
            "Requirement already satisfied: urllib3<3,>=1.21.1 in /usr/local/lib/python3.10/dist-packages (from requests<3,>=2.21.0->tensorflow>=2.1.0->keras_spiking) (2.2.3)\n",
            "Requirement already satisfied: certifi>=2017.4.17 in /usr/local/lib/python3.10/dist-packages (from requests<3,>=2.21.0->tensorflow>=2.1.0->keras_spiking) (2024.8.30)\n",
            "Requirement already satisfied: markdown>=2.6.8 in /usr/local/lib/python3.10/dist-packages (from tensorboard<2.18,>=2.17->tensorflow>=2.1.0->keras_spiking) (3.7)\n",
            "Requirement already satisfied: tensorboard-data-server<0.8.0,>=0.7.0 in /usr/local/lib/python3.10/dist-packages (from tensorboard<2.18,>=2.17->tensorflow>=2.1.0->keras_spiking) (0.7.2)\n",
            "Requirement already satisfied: werkzeug>=1.0.1 in /usr/local/lib/python3.10/dist-packages (from tensorboard<2.18,>=2.17->tensorflow>=2.1.0->keras_spiking) (3.0.4)\n",
            "Requirement already satisfied: MarkupSafe>=2.1.1 in /usr/local/lib/python3.10/dist-packages (from werkzeug>=1.0.1->tensorboard<2.18,>=2.17->tensorflow>=2.1.0->keras_spiking) (3.0.2)\n",
            "Requirement already satisfied: markdown-it-py>=2.2.0 in /usr/local/lib/python3.10/dist-packages (from rich->keras>=3.2.0->tensorflow>=2.1.0->keras_spiking) (3.0.0)\n",
            "Requirement already satisfied: pygments<3.0.0,>=2.13.0 in /usr/local/lib/python3.10/dist-packages (from rich->keras>=3.2.0->tensorflow>=2.1.0->keras_spiking) (2.18.0)\n",
            "Requirement already satisfied: mdurl~=0.1 in /usr/local/lib/python3.10/dist-packages (from markdown-it-py>=2.2.0->rich->keras>=3.2.0->tensorflow>=2.1.0->keras_spiking) (0.1.2)\n",
            "Downloading keras_spiking-0.3.0-py3-none-any.whl (37 kB)\n",
            "Installing collected packages: keras_spiking\n",
            "Successfully installed keras_spiking-0.3.0\n",
            "Collecting tensorflow==2.15.0\n",
            "  Downloading tensorflow-2.15.0-cp310-cp310-manylinux_2_17_x86_64.manylinux2014_x86_64.whl.metadata (4.4 kB)\n",
            "Requirement already satisfied: absl-py>=1.0.0 in /usr/local/lib/python3.10/dist-packages (from tensorflow==2.15.0) (1.4.0)\n",
            "Requirement already satisfied: astunparse>=1.6.0 in /usr/local/lib/python3.10/dist-packages (from tensorflow==2.15.0) (1.6.3)\n",
            "Requirement already satisfied: flatbuffers>=23.5.26 in /usr/local/lib/python3.10/dist-packages (from tensorflow==2.15.0) (24.3.25)\n",
            "Requirement already satisfied: gast!=0.5.0,!=0.5.1,!=0.5.2,>=0.2.1 in /usr/local/lib/python3.10/dist-packages (from tensorflow==2.15.0) (0.6.0)\n",
            "Requirement already satisfied: google-pasta>=0.1.1 in /usr/local/lib/python3.10/dist-packages (from tensorflow==2.15.0) (0.2.0)\n",
            "Requirement already satisfied: h5py>=2.9.0 in /usr/local/lib/python3.10/dist-packages (from tensorflow==2.15.0) (3.11.0)\n",
            "Requirement already satisfied: libclang>=13.0.0 in /usr/local/lib/python3.10/dist-packages (from tensorflow==2.15.0) (18.1.1)\n",
            "Collecting ml-dtypes~=0.2.0 (from tensorflow==2.15.0)\n",
            "  Downloading ml_dtypes-0.2.0-cp310-cp310-manylinux_2_17_x86_64.manylinux2014_x86_64.whl.metadata (20 kB)\n",
            "Requirement already satisfied: numpy<2.0.0,>=1.23.5 in /usr/local/lib/python3.10/dist-packages (from tensorflow==2.15.0) (1.26.4)\n",
            "Requirement already satisfied: opt-einsum>=2.3.2 in /usr/local/lib/python3.10/dist-packages (from tensorflow==2.15.0) (3.4.0)\n",
            "Requirement already satisfied: packaging in /usr/local/lib/python3.10/dist-packages (from tensorflow==2.15.0) (24.1)\n",
            "Requirement already satisfied: protobuf!=4.21.0,!=4.21.1,!=4.21.2,!=4.21.3,!=4.21.4,!=4.21.5,<5.0.0dev,>=3.20.3 in /usr/local/lib/python3.10/dist-packages (from tensorflow==2.15.0) (3.20.3)\n",
            "Requirement already satisfied: setuptools in /usr/local/lib/python3.10/dist-packages (from tensorflow==2.15.0) (75.1.0)\n",
            "Requirement already satisfied: six>=1.12.0 in /usr/local/lib/python3.10/dist-packages (from tensorflow==2.15.0) (1.16.0)\n",
            "Requirement already satisfied: termcolor>=1.1.0 in /usr/local/lib/python3.10/dist-packages (from tensorflow==2.15.0) (2.5.0)\n",
            "Requirement already satisfied: typing-extensions>=3.6.6 in /usr/local/lib/python3.10/dist-packages (from tensorflow==2.15.0) (4.12.2)\n",
            "Collecting wrapt<1.15,>=1.11.0 (from tensorflow==2.15.0)\n",
            "  Downloading wrapt-1.14.1-cp310-cp310-manylinux_2_5_x86_64.manylinux1_x86_64.manylinux_2_17_x86_64.manylinux2014_x86_64.whl.metadata (6.7 kB)\n",
            "Requirement already satisfied: tensorflow-io-gcs-filesystem>=0.23.1 in /usr/local/lib/python3.10/dist-packages (from tensorflow==2.15.0) (0.37.1)\n",
            "Requirement already satisfied: grpcio<2.0,>=1.24.3 in /usr/local/lib/python3.10/dist-packages (from tensorflow==2.15.0) (1.64.1)\n",
            "Collecting tensorboard<2.16,>=2.15 (from tensorflow==2.15.0)\n",
            "  Downloading tensorboard-2.15.2-py3-none-any.whl.metadata (1.7 kB)\n",
            "Collecting tensorflow-estimator<2.16,>=2.15.0 (from tensorflow==2.15.0)\n",
            "  Downloading tensorflow_estimator-2.15.0-py2.py3-none-any.whl.metadata (1.3 kB)\n",
            "Collecting keras<2.16,>=2.15.0 (from tensorflow==2.15.0)\n",
            "  Downloading keras-2.15.0-py3-none-any.whl.metadata (2.4 kB)\n",
            "Requirement already satisfied: wheel<1.0,>=0.23.0 in /usr/local/lib/python3.10/dist-packages (from astunparse>=1.6.0->tensorflow==2.15.0) (0.44.0)\n",
            "Requirement already satisfied: google-auth<3,>=1.6.3 in /usr/local/lib/python3.10/dist-packages (from tensorboard<2.16,>=2.15->tensorflow==2.15.0) (2.27.0)\n",
            "Requirement already satisfied: google-auth-oauthlib<2,>=0.5 in /usr/local/lib/python3.10/dist-packages (from tensorboard<2.16,>=2.15->tensorflow==2.15.0) (1.2.1)\n",
            "Requirement already satisfied: markdown>=2.6.8 in /usr/local/lib/python3.10/dist-packages (from tensorboard<2.16,>=2.15->tensorflow==2.15.0) (3.7)\n",
            "Requirement already satisfied: requests<3,>=2.21.0 in /usr/local/lib/python3.10/dist-packages (from tensorboard<2.16,>=2.15->tensorflow==2.15.0) (2.32.3)\n",
            "Requirement already satisfied: tensorboard-data-server<0.8.0,>=0.7.0 in /usr/local/lib/python3.10/dist-packages (from tensorboard<2.16,>=2.15->tensorflow==2.15.0) (0.7.2)\n",
            "Requirement already satisfied: werkzeug>=1.0.1 in /usr/local/lib/python3.10/dist-packages (from tensorboard<2.16,>=2.15->tensorflow==2.15.0) (3.0.4)\n",
            "Requirement already satisfied: cachetools<6.0,>=2.0.0 in /usr/local/lib/python3.10/dist-packages (from google-auth<3,>=1.6.3->tensorboard<2.16,>=2.15->tensorflow==2.15.0) (5.5.0)\n",
            "Requirement already satisfied: pyasn1-modules>=0.2.1 in /usr/local/lib/python3.10/dist-packages (from google-auth<3,>=1.6.3->tensorboard<2.16,>=2.15->tensorflow==2.15.0) (0.4.1)\n",
            "Requirement already satisfied: rsa<5,>=3.1.4 in /usr/local/lib/python3.10/dist-packages (from google-auth<3,>=1.6.3->tensorboard<2.16,>=2.15->tensorflow==2.15.0) (4.9)\n",
            "Requirement already satisfied: requests-oauthlib>=0.7.0 in /usr/local/lib/python3.10/dist-packages (from google-auth-oauthlib<2,>=0.5->tensorboard<2.16,>=2.15->tensorflow==2.15.0) (1.3.1)\n",
            "Requirement already satisfied: charset-normalizer<4,>=2 in /usr/local/lib/python3.10/dist-packages (from requests<3,>=2.21.0->tensorboard<2.16,>=2.15->tensorflow==2.15.0) (3.4.0)\n",
            "Requirement already satisfied: idna<4,>=2.5 in /usr/local/lib/python3.10/dist-packages (from requests<3,>=2.21.0->tensorboard<2.16,>=2.15->tensorflow==2.15.0) (3.10)\n",
            "Requirement already satisfied: urllib3<3,>=1.21.1 in /usr/local/lib/python3.10/dist-packages (from requests<3,>=2.21.0->tensorboard<2.16,>=2.15->tensorflow==2.15.0) (2.2.3)\n",
            "Requirement already satisfied: certifi>=2017.4.17 in /usr/local/lib/python3.10/dist-packages (from requests<3,>=2.21.0->tensorboard<2.16,>=2.15->tensorflow==2.15.0) (2024.8.30)\n",
            "Requirement already satisfied: MarkupSafe>=2.1.1 in /usr/local/lib/python3.10/dist-packages (from werkzeug>=1.0.1->tensorboard<2.16,>=2.15->tensorflow==2.15.0) (3.0.2)\n",
            "Requirement already satisfied: pyasn1<0.7.0,>=0.4.6 in /usr/local/lib/python3.10/dist-packages (from pyasn1-modules>=0.2.1->google-auth<3,>=1.6.3->tensorboard<2.16,>=2.15->tensorflow==2.15.0) (0.6.1)\n",
            "Requirement already satisfied: oauthlib>=3.0.0 in /usr/local/lib/python3.10/dist-packages (from requests-oauthlib>=0.7.0->google-auth-oauthlib<2,>=0.5->tensorboard<2.16,>=2.15->tensorflow==2.15.0) (3.2.2)\n",
            "Downloading tensorflow-2.15.0-cp310-cp310-manylinux_2_17_x86_64.manylinux2014_x86_64.whl (475.2 MB)\n",
            "\u001b[2K   \u001b[90m━━━━━━━━━━━━━━━━━━━━━━━━━━━━━━━━━━━━━━━━\u001b[0m \u001b[32m475.2/475.2 MB\u001b[0m \u001b[31m2.1 MB/s\u001b[0m eta \u001b[36m0:00:00\u001b[0m\n",
            "\u001b[?25hDownloading keras-2.15.0-py3-none-any.whl (1.7 MB)\n",
            "\u001b[2K   \u001b[90m━━━━━━━━━━━━━━━━━━━━━━━━━━━━━━━━━━━━━━━━\u001b[0m \u001b[32m1.7/1.7 MB\u001b[0m \u001b[31m55.2 MB/s\u001b[0m eta \u001b[36m0:00:00\u001b[0m\n",
            "\u001b[?25hDownloading ml_dtypes-0.2.0-cp310-cp310-manylinux_2_17_x86_64.manylinux2014_x86_64.whl (1.0 MB)\n",
            "\u001b[2K   \u001b[90m━━━━━━━━━━━━━━━━━━━━━━━━━━━━━━━━━━━━━━━━\u001b[0m \u001b[32m1.0/1.0 MB\u001b[0m \u001b[31m48.6 MB/s\u001b[0m eta \u001b[36m0:00:00\u001b[0m\n",
            "\u001b[?25hDownloading tensorboard-2.15.2-py3-none-any.whl (5.5 MB)\n",
            "\u001b[2K   \u001b[90m━━━━━━━━━━━━━━━━━━━━━━━━━━━━━━━━━━━━━━━━\u001b[0m \u001b[32m5.5/5.5 MB\u001b[0m \u001b[31m70.7 MB/s\u001b[0m eta \u001b[36m0:00:00\u001b[0m\n",
            "\u001b[?25hDownloading tensorflow_estimator-2.15.0-py2.py3-none-any.whl (441 kB)\n",
            "\u001b[2K   \u001b[90m━━━━━━━━━━━━━━━━━━━━━━━━━━━━━━━━━━━━━━━━\u001b[0m \u001b[32m442.0/442.0 kB\u001b[0m \u001b[31m29.3 MB/s\u001b[0m eta \u001b[36m0:00:00\u001b[0m\n",
            "\u001b[?25hDownloading wrapt-1.14.1-cp310-cp310-manylinux_2_5_x86_64.manylinux1_x86_64.manylinux_2_17_x86_64.manylinux2014_x86_64.whl (77 kB)\n",
            "\u001b[2K   \u001b[90m━━━━━━━━━━━━━━━━━━━━━━━━━━━━━━━━━━━━━━━━\u001b[0m \u001b[32m77.9/77.9 kB\u001b[0m \u001b[31m7.1 MB/s\u001b[0m eta \u001b[36m0:00:00\u001b[0m\n",
            "\u001b[?25hInstalling collected packages: wrapt, tensorflow-estimator, ml-dtypes, keras, tensorboard, tensorflow\n",
            "  Attempting uninstall: wrapt\n",
            "    Found existing installation: wrapt 1.16.0\n",
            "    Uninstalling wrapt-1.16.0:\n",
            "      Successfully uninstalled wrapt-1.16.0\n",
            "  Attempting uninstall: ml-dtypes\n",
            "    Found existing installation: ml-dtypes 0.4.1\n",
            "    Uninstalling ml-dtypes-0.4.1:\n",
            "      Successfully uninstalled ml-dtypes-0.4.1\n",
            "  Attempting uninstall: keras\n",
            "    Found existing installation: keras 3.4.1\n",
            "    Uninstalling keras-3.4.1:\n",
            "      Successfully uninstalled keras-3.4.1\n",
            "  Attempting uninstall: tensorboard\n",
            "    Found existing installation: tensorboard 2.17.0\n",
            "    Uninstalling tensorboard-2.17.0:\n",
            "      Successfully uninstalled tensorboard-2.17.0\n",
            "  Attempting uninstall: tensorflow\n",
            "    Found existing installation: tensorflow 2.17.0\n",
            "    Uninstalling tensorflow-2.17.0:\n",
            "      Successfully uninstalled tensorflow-2.17.0\n",
            "\u001b[31mERROR: pip's dependency resolver does not currently take into account all the packages that are installed. This behaviour is the source of the following dependency conflicts.\n",
            "tensorstore 0.1.66 requires ml-dtypes>=0.3.1, but you have ml-dtypes 0.2.0 which is incompatible.\n",
            "tf-keras 2.17.0 requires tensorflow<2.18,>=2.17, but you have tensorflow 2.15.0 which is incompatible.\u001b[0m\u001b[31m\n",
            "\u001b[0mSuccessfully installed keras-2.15.0 ml-dtypes-0.2.0 tensorboard-2.15.2 tensorflow-2.15.0 tensorflow-estimator-2.15.0 wrapt-1.14.1\n"
          ]
        }
      ]
    },
    {
      "cell_type": "code",
      "execution_count": 31,
      "metadata": {
        "id": "vpqlCXnxZuSf"
      },
      "outputs": [],
      "source": [
        "import joblib\n",
        "import pickle\n",
        "import math\n",
        "import numpy as np\n",
        "import pandas as pd\n",
        "import tensorflow as tf\n",
        "from tensorflow import keras\n",
        "from tensorflow.keras import layers, metrics, backend as K\n",
        "from tensorflow.keras.utils import to_categorical\n",
        "from tensorflow.keras.models import Sequential, load_model, Model\n",
        "from tensorflow.keras.optimizers import Adam, SGD, RMSprop\n",
        "from tensorflow.keras.callbacks import ReduceLROnPlateau, ModelCheckpoint, EarlyStopping\n",
        "from tensorflow.keras.initializers import glorot_uniform, HeNormal\n",
        "from tensorflow.keras.regularizers import l2\n",
        "from tensorflow.keras.layers import (\n",
        "    Dense, Dropout, Flatten, Activation, BatchNormalization,\n",
        "    Conv2D, MaxPool2D, Input, Concatenate\n",
        ")\n",
        "from sklearn.model_selection import train_test_split, GridSearchCV, PredefinedSplit\n",
        "from sklearn.preprocessing import LabelEncoder, StandardScaler, MinMaxScaler\n",
        "from sklearn.metrics import accuracy_score\n",
        "from keras_spiking import SpikingActivation\n",
        "import matplotlib.pyplot as plt\n",
        "from IPython import display\n",
        "\n",
        "%matplotlib inline"
      ]
    },
    {
      "cell_type": "markdown",
      "source": [
        "#Read and Process Data"
      ],
      "metadata": {
        "id": "24vapW7Iq62k"
      }
    },
    {
      "cell_type": "code",
      "execution_count": 5,
      "metadata": {
        "id": "TwoKrYriacf-"
      },
      "outputs": [],
      "source": [
        "df = pd.read_pickle(\"/content/drive/MyDrive/FingerClassification/Data/data_final1.pkl\")"
      ]
    },
    {
      "cell_type": "code",
      "source": [
        "len(df)"
      ],
      "metadata": {
        "colab": {
          "base_uri": "https://localhost:8080/"
        },
        "id": "JXRIX5JrINh3",
        "outputId": "e1299e31-e284-4f78-cfbf-50bd2ce7178f"
      },
      "execution_count": 6,
      "outputs": [
        {
          "output_type": "execute_result",
          "data": {
            "text/plain": [
              "95571"
            ]
          },
          "metadata": {},
          "execution_count": 6
        }
      ]
    },
    {
      "cell_type": "code",
      "execution_count": 7,
      "metadata": {
        "id": "39TADFjzaiFk"
      },
      "outputs": [],
      "source": [
        "#Sort\n",
        "df = df.sort_values(by='Timestamp', ascending=True)"
      ]
    },
    {
      "cell_type": "code",
      "execution_count": 10,
      "metadata": {
        "id": "2n1RHzkjajFf"
      },
      "outputs": [],
      "source": [
        "#Làm phẳng mỗi mảng 2 chiều và tạo mảng 2 chiều cho việc scale\n",
        "X_flattened = np.array([blob.flatten() for blob in df['Resized_Blobs'].values])\n",
        "\n",
        "#Normalization\n",
        "min_max_scaler = MinMaxScaler()\n",
        "\n",
        "X_min_max_scaled = min_max_scaler.fit_transform(X_flattened)\n",
        "df['New'] = list(X_min_max_scaled)\n",
        "\n",
        "area_scaled = min_max_scaler.fit_transform(df['Area'].values.reshape(-1, 1))\n",
        "df['Area'] = area_scaled"
      ]
    },
    {
      "cell_type": "code",
      "execution_count": null,
      "metadata": {
        "id": "W0kEKbP-M8tf"
      },
      "outputs": [],
      "source": [
        "# Special Cases\n",
        "df['Finger_Categorys'] = df['Finger'].replace({'little': 'Others', 'ring': 'Others', 'index': 'Others', 'middle': 'Others', 'thumb': 'Thumb'})\n",
        "df['Finger_Categorys'] = df['Finger'] + \"_\" + df['Handedness']"
      ]
    },
    {
      "cell_type": "code",
      "execution_count": 11,
      "metadata": {
        "id": "HpZ5CqQo95_X"
      },
      "outputs": [],
      "source": [
        "#Split Data\n",
        "split_factor = 0.8\n",
        "ptcp_train = df.Participant.unique()[:math.floor(len(df.Participant.unique())*split_factor)]\n",
        "ptcp_test = df.Participant.unique()[math.floor(len(df.Participant.unique())*split_factor):]\n",
        "df_train = df[df.Participant.isin(ptcp_train)].copy(deep=True)\n",
        "df_test = df[df.Participant.isin(ptcp_test)].copy(deep=True)"
      ]
    },
    {
      "cell_type": "code",
      "execution_count": 12,
      "metadata": {
        "id": "AeGjZVgnak-3"
      },
      "outputs": [],
      "source": [
        "le = LabelEncoder()\n",
        "\n",
        "X_train = np.stack(df_train[['New', 'Area']].values)\n",
        "X_test = np.stack(df_test[['New', 'Area']].values)\n",
        "\n",
        "X_train_features = np.array([sample[0] for sample in X_train])\n",
        "X_train_area = np.array([sample[1] for sample in X_train])\n",
        "\n",
        "X_test_features = np.array([sample[0] for sample in X_test])\n",
        "X_test_area = np.array([sample[1] for sample in X_test])"
      ]
    },
    {
      "cell_type": "code",
      "source": [
        "#Set params\n",
        "n_steps = 5\n",
        "dt = 0.3"
      ],
      "metadata": {
        "id": "vNDUxd59CTmK"
      },
      "execution_count": 17,
      "outputs": []
    },
    {
      "cell_type": "code",
      "execution_count": 14,
      "metadata": {
        "id": "sk7R2lp8cOj8"
      },
      "outputs": [],
      "source": [
        "X_train_area = X_train_area.reshape(-1, 1)\n",
        "X_test_area = X_test_area.reshape(-1, 1)"
      ]
    },
    {
      "cell_type": "code",
      "execution_count": 18,
      "metadata": {
        "id": "mCp5HqQSdQdC"
      },
      "outputs": [],
      "source": [
        "X_train_features = np.tile(X_train_features[:, None, :], (1, n_steps, 1))\n",
        "X_train_area = np.tile(X_train_area[:, None], (1, n_steps, 1))\n",
        "\n",
        "X_test_features = np.tile(X_test_features[:, None, :], (1, n_steps, 1))\n",
        "X_test_area = np.tile(X_test_area[:, None], (1, n_steps, 1))"
      ]
    },
    {
      "cell_type": "code",
      "source": [
        "#Encode\n",
        "y_train = df_train['Handedness'].values\n",
        "y_test = df_test['Handedness'].values\n",
        "y_train_encoded = le.fit_transform(y_train)\n",
        "y_test_encoded = le.transform(y_test)\n",
        "\n",
        "#One-hot encoding\n",
        "y_train_one_hot = to_categorical(y_train_encoded)\n",
        "y_test_one_hot = to_categorical(y_test_encoded)"
      ],
      "metadata": {
        "id": "WVsjibViCa98"
      },
      "execution_count": 25,
      "outputs": []
    },
    {
      "cell_type": "markdown",
      "source": [
        "#Build SNN Model"
      ],
      "metadata": {
        "id": "OWe95_-2rKrJ"
      }
    },
    {
      "cell_type": "code",
      "execution_count": 42,
      "metadata": {
        "colab": {
          "base_uri": "https://localhost:8080/"
        },
        "collapsed": true,
        "id": "C9pKmCp9l5zD",
        "outputId": "a7051695-50b2-481c-f36d-86750e6dba7b"
      },
      "outputs": [
        {
          "output_type": "stream",
          "name": "stdout",
          "text": [
            "Model: \"model_3\"\n",
            "__________________________________________________________________________________________________\n",
            " Layer (type)                Output Shape                 Param #   Connected to                  \n",
            "==================================================================================================\n",
            " input_7 (InputLayer)        [(None, 5, 64)]              0         []                            \n",
            "                                                                                                  \n",
            " input_8 (InputLayer)        [(None, 5, 1)]               0         []                            \n",
            "                                                                                                  \n",
            " time_distributed_15 (TimeD  (None, 5, 128)               8320      ['input_7[0][0]']             \n",
            " istributed)                                                                                      \n",
            "                                                                                                  \n",
            " time_distributed_16 (TimeD  (None, 5, 128)               256       ['input_8[0][0]']             \n",
            " istributed)                                                                                      \n",
            "                                                                                                  \n",
            " spiking_activation_15 (Spi  (None, 5, 128)               0         ['time_distributed_15[0][0]'] \n",
            " kingActivation)                                                                                  \n",
            "                                                                                                  \n",
            " spiking_activation_16 (Spi  (None, 5, 128)               0         ['time_distributed_16[0][0]'] \n",
            " kingActivation)                                                                                  \n",
            "                                                                                                  \n",
            " concatenate_3 (Concatenate  (None, 5, 256)               0         ['spiking_activation_15[0][0]'\n",
            " )                                                                  , 'spiking_activation_16[0][0]\n",
            "                                                                    ']                            \n",
            "                                                                                                  \n",
            " time_distributed_17 (TimeD  (None, 5, 64)                16448     ['concatenate_3[0][0]']       \n",
            " istributed)                                                                                      \n",
            "                                                                                                  \n",
            " spiking_activation_17 (Spi  (None, 5, 64)                0         ['time_distributed_17[0][0]'] \n",
            " kingActivation)                                                                                  \n",
            "                                                                                                  \n",
            " time_distributed_18 (TimeD  (None, 5, 32)                2080      ['spiking_activation_17[0][0]'\n",
            " istributed)                                                        ]                             \n",
            "                                                                                                  \n",
            " spiking_activation_18 (Spi  (None, 5, 32)                0         ['time_distributed_18[0][0]'] \n",
            " kingActivation)                                                                                  \n",
            "                                                                                                  \n",
            " time_distributed_19 (TimeD  (None, 5, 16)                528       ['spiking_activation_18[0][0]'\n",
            " istributed)                                                        ]                             \n",
            "                                                                                                  \n",
            " spiking_activation_19 (Spi  (None, 5, 16)                0         ['time_distributed_19[0][0]'] \n",
            " kingActivation)                                                                                  \n",
            "                                                                                                  \n",
            " global_average_pooling1d_3  (None, 16)                   0         ['spiking_activation_19[0][0]'\n",
            "  (GlobalAveragePooling1D)                                          ]                             \n",
            "                                                                                                  \n",
            " dense_23 (Dense)            (None, 2)                    34        ['global_average_pooling1d_3[0\n",
            "                                                                    ][0]']                        \n",
            "                                                                                                  \n",
            "==================================================================================================\n",
            "Total params: 27666 (108.07 KB)\n",
            "Trainable params: 27666 (108.07 KB)\n",
            "Non-trainable params: 0 (0.00 Byte)\n",
            "__________________________________________________________________________________________________\n"
          ]
        }
      ],
      "source": [
        "#Blobs 8x8\n",
        "input_64 = tf.keras.Input(shape=(n_steps, 64))\n",
        "#Ellipse Area\n",
        "input_1 = tf.keras.Input(shape=(n_steps, 1))\n",
        "\n",
        "# Feature 1\n",
        "x1 = tf.keras.layers.TimeDistributed(tf.keras.layers.Dense(128))(input_64)\n",
        "x1 = keras_spiking.SpikingActivation(\"relu\", dt = dt, spiking_aware_training=True)(x1)\n",
        "\n",
        "# Feature 2\n",
        "x2 = tf.keras.layers.TimeDistributed(tf.keras.layers.Dense(128))(input_1)\n",
        "x2 = keras_spiking.SpikingActivation(\"relu\", dt = dt, spiking_aware_training=True)(x2)\n",
        "\n",
        "#Merge input\n",
        "merged = tf.keras.layers.Concatenate(axis=-1)([x1, x2])\n",
        "\n",
        "# Next layers\n",
        "x = tf.keras.layers.TimeDistributed(tf.keras.layers.Dense(64))(merged)\n",
        "x = keras_spiking.SpikingActivation(\"relu\", dt = dt, spiking_aware_training=True)(x)\n",
        "x = tf.keras.layers.TimeDistributed(tf.keras.layers.Dense(32))(x)\n",
        "x = keras_spiking.SpikingActivation(\"relu\", dt = dt, spiking_aware_training=True)(x)\n",
        "x = tf.keras.layers.TimeDistributed(tf.keras.layers.Dense(16))(x)\n",
        "x = keras_spiking.SpikingActivation(\"relu\", dt = dt, spiking_aware_training=True)(x)\n",
        "\n",
        "x = tf.keras.layers.GlobalAveragePooling1D()(x)\n",
        "\n",
        "# Output layer\n",
        "output = tf.keras.layers.Dense(2, activation='softmax')(x)\n",
        "\n",
        "model = tf.keras.Model(inputs=[input_64, input_1], outputs=output)\n",
        "#Check model\n",
        "model.summary()"
      ]
    },
    {
      "cell_type": "code",
      "execution_count": 47,
      "metadata": {
        "id": "LzbtjhyQrT2r"
      },
      "outputs": [],
      "source": [
        "model.compile(optimizer='adam', loss='categorical_crossentropy', metrics=['categorical_accuracy'])"
      ]
    },
    {
      "cell_type": "markdown",
      "source": [
        "#Training"
      ],
      "metadata": {
        "id": "ScAZw4merPMP"
      }
    },
    {
      "cell_type": "code",
      "execution_count": 48,
      "metadata": {
        "colab": {
          "base_uri": "https://localhost:8080/"
        },
        "collapsed": true,
        "id": "twkgeZuv15uT",
        "outputId": "cc53c5d6-9b1c-4913-eab2-1b15a2760489"
      },
      "outputs": [
        {
          "output_type": "stream",
          "name": "stdout",
          "text": [
            "Epoch 1/70\n",
            "4734/4734 [==============================] - 36s 7ms/step - loss: 0.6257 - categorical_accuracy: 0.6398 - val_loss: 0.5491 - val_categorical_accuracy: 0.7172\n",
            "Epoch 2/70\n",
            "4734/4734 [==============================] - 30s 6ms/step - loss: 0.5341 - categorical_accuracy: 0.7317 - val_loss: 0.5441 - val_categorical_accuracy: 0.7266\n",
            "Epoch 3/70\n",
            "4734/4734 [==============================] - 29s 6ms/step - loss: 0.4996 - categorical_accuracy: 0.7549 - val_loss: 0.4945 - val_categorical_accuracy: 0.7486\n",
            "Epoch 4/70\n",
            "4734/4734 [==============================] - 30s 6ms/step - loss: 0.4765 - categorical_accuracy: 0.7684 - val_loss: 0.4447 - val_categorical_accuracy: 0.7854\n",
            "Epoch 5/70\n",
            "4734/4734 [==============================] - 31s 7ms/step - loss: 0.4589 - categorical_accuracy: 0.7796 - val_loss: 0.4323 - val_categorical_accuracy: 0.7925\n",
            "Epoch 6/70\n",
            "4734/4734 [==============================] - 29s 6ms/step - loss: 0.4439 - categorical_accuracy: 0.7899 - val_loss: 0.3920 - val_categorical_accuracy: 0.8183\n",
            "Epoch 7/70\n",
            "4734/4734 [==============================] - 29s 6ms/step - loss: 0.4315 - categorical_accuracy: 0.7967 - val_loss: 0.4402 - val_categorical_accuracy: 0.7961\n",
            "Epoch 8/70\n",
            "4734/4734 [==============================] - 30s 6ms/step - loss: 0.4225 - categorical_accuracy: 0.8015 - val_loss: 0.3874 - val_categorical_accuracy: 0.8249\n",
            "Epoch 9/70\n",
            "4734/4734 [==============================] - 29s 6ms/step - loss: 0.4161 - categorical_accuracy: 0.8066 - val_loss: 0.3828 - val_categorical_accuracy: 0.8293\n",
            "Epoch 10/70\n",
            "4734/4734 [==============================] - 32s 7ms/step - loss: 0.4055 - categorical_accuracy: 0.8141 - val_loss: 0.3576 - val_categorical_accuracy: 0.8420\n",
            "Epoch 11/70\n",
            "4734/4734 [==============================] - 33s 7ms/step - loss: 0.3960 - categorical_accuracy: 0.8190 - val_loss: 0.3602 - val_categorical_accuracy: 0.8393\n",
            "Epoch 12/70\n",
            "4734/4734 [==============================] - 29s 6ms/step - loss: 0.3917 - categorical_accuracy: 0.8202 - val_loss: 0.3200 - val_categorical_accuracy: 0.8647\n",
            "Epoch 13/70\n",
            "4734/4734 [==============================] - 32s 7ms/step - loss: 0.3844 - categorical_accuracy: 0.8264 - val_loss: 0.3574 - val_categorical_accuracy: 0.8453\n",
            "Epoch 14/70\n",
            "4734/4734 [==============================] - 29s 6ms/step - loss: 0.3780 - categorical_accuracy: 0.8291 - val_loss: 0.3232 - val_categorical_accuracy: 0.8558\n",
            "Epoch 15/70\n",
            "4734/4734 [==============================] - 29s 6ms/step - loss: 0.3701 - categorical_accuracy: 0.8330 - val_loss: 0.3212 - val_categorical_accuracy: 0.8592\n",
            "Epoch 16/70\n",
            "4734/4734 [==============================] - 29s 6ms/step - loss: 0.3650 - categorical_accuracy: 0.8356 - val_loss: 0.3333 - val_categorical_accuracy: 0.8572\n",
            "Epoch 17/70\n",
            "4734/4734 [==============================] - 31s 7ms/step - loss: 0.3591 - categorical_accuracy: 0.8378 - val_loss: 0.3375 - val_categorical_accuracy: 0.8569\n",
            "Epoch 18/70\n",
            "4734/4734 [==============================] - 29s 6ms/step - loss: 0.3553 - categorical_accuracy: 0.8403 - val_loss: 0.3028 - val_categorical_accuracy: 0.8726\n",
            "Epoch 19/70\n",
            "4734/4734 [==============================] - 29s 6ms/step - loss: 0.3498 - categorical_accuracy: 0.8432 - val_loss: 0.2947 - val_categorical_accuracy: 0.8735\n",
            "Epoch 20/70\n",
            "4734/4734 [==============================] - 31s 7ms/step - loss: 0.3475 - categorical_accuracy: 0.8434 - val_loss: 0.3069 - val_categorical_accuracy: 0.8708\n",
            "Epoch 21/70\n",
            "4734/4734 [==============================] - 30s 6ms/step - loss: 0.3409 - categorical_accuracy: 0.8477 - val_loss: 0.3108 - val_categorical_accuracy: 0.8693\n",
            "Epoch 22/70\n",
            "4734/4734 [==============================] - 30s 6ms/step - loss: 0.3357 - categorical_accuracy: 0.8496 - val_loss: 0.3128 - val_categorical_accuracy: 0.8722\n",
            "Epoch 23/70\n",
            "4734/4734 [==============================] - 31s 7ms/step - loss: 0.3340 - categorical_accuracy: 0.8507 - val_loss: 0.3064 - val_categorical_accuracy: 0.8692\n",
            "Epoch 24/70\n",
            "4734/4734 [==============================] - 31s 7ms/step - loss: 0.3304 - categorical_accuracy: 0.8523 - val_loss: 0.3202 - val_categorical_accuracy: 0.8619\n",
            "Epoch 25/70\n",
            "4734/4734 [==============================] - 31s 7ms/step - loss: 0.3245 - categorical_accuracy: 0.8547 - val_loss: 0.2813 - val_categorical_accuracy: 0.8804\n",
            "Epoch 26/70\n",
            "4734/4734 [==============================] - 30s 6ms/step - loss: 0.3208 - categorical_accuracy: 0.8572 - val_loss: 0.2823 - val_categorical_accuracy: 0.8799\n",
            "Epoch 27/70\n",
            "4734/4734 [==============================] - 31s 7ms/step - loss: 0.3200 - categorical_accuracy: 0.8577 - val_loss: 0.2909 - val_categorical_accuracy: 0.8761\n",
            "Epoch 28/70\n",
            "4734/4734 [==============================] - 30s 6ms/step - loss: 0.3156 - categorical_accuracy: 0.8603 - val_loss: 0.2787 - val_categorical_accuracy: 0.8877\n",
            "Epoch 29/70\n",
            "4734/4734 [==============================] - 31s 7ms/step - loss: 0.3131 - categorical_accuracy: 0.8616 - val_loss: 0.2997 - val_categorical_accuracy: 0.8745\n",
            "Epoch 30/70\n",
            "4734/4734 [==============================] - 31s 7ms/step - loss: 0.3110 - categorical_accuracy: 0.8624 - val_loss: 0.2928 - val_categorical_accuracy: 0.8733\n",
            "Epoch 31/70\n",
            "4734/4734 [==============================] - 30s 6ms/step - loss: 0.3089 - categorical_accuracy: 0.8627 - val_loss: 0.2908 - val_categorical_accuracy: 0.8772\n",
            "Epoch 32/70\n",
            "4734/4734 [==============================] - 30s 6ms/step - loss: 0.3058 - categorical_accuracy: 0.8646 - val_loss: 0.2847 - val_categorical_accuracy: 0.8845\n",
            "Epoch 33/70\n",
            "4734/4734 [==============================] - 32s 7ms/step - loss: 0.3035 - categorical_accuracy: 0.8644 - val_loss: 0.3514 - val_categorical_accuracy: 0.8541\n",
            "Epoch 34/70\n",
            "4734/4734 [==============================] - 32s 7ms/step - loss: 0.3024 - categorical_accuracy: 0.8663 - val_loss: 0.2792 - val_categorical_accuracy: 0.8867\n",
            "Epoch 35/70\n",
            "4734/4734 [==============================] - 32s 7ms/step - loss: 0.2989 - categorical_accuracy: 0.8678 - val_loss: 0.2904 - val_categorical_accuracy: 0.8838\n",
            "Epoch 36/70\n",
            "4734/4734 [==============================] - 30s 6ms/step - loss: 0.2959 - categorical_accuracy: 0.8683 - val_loss: 0.2878 - val_categorical_accuracy: 0.8828\n",
            "Epoch 37/70\n",
            "4734/4734 [==============================] - 30s 6ms/step - loss: 0.2939 - categorical_accuracy: 0.8703 - val_loss: 0.3363 - val_categorical_accuracy: 0.8634\n",
            "Epoch 38/70\n",
            "4734/4734 [==============================] - 30s 6ms/step - loss: 0.2942 - categorical_accuracy: 0.8707 - val_loss: 0.2770 - val_categorical_accuracy: 0.8884\n",
            "Epoch 39/70\n",
            "4734/4734 [==============================] - 30s 6ms/step - loss: 0.2898 - categorical_accuracy: 0.8723 - val_loss: 0.2786 - val_categorical_accuracy: 0.8864\n",
            "Epoch 40/70\n",
            "4734/4734 [==============================] - 29s 6ms/step - loss: 0.2888 - categorical_accuracy: 0.8724 - val_loss: 0.2793 - val_categorical_accuracy: 0.8814\n",
            "Epoch 41/70\n",
            "4734/4734 [==============================] - 32s 7ms/step - loss: 0.2859 - categorical_accuracy: 0.8740 - val_loss: 0.2955 - val_categorical_accuracy: 0.8776\n",
            "Epoch 42/70\n",
            "4734/4734 [==============================] - 31s 7ms/step - loss: 0.2844 - categorical_accuracy: 0.8740 - val_loss: 0.2901 - val_categorical_accuracy: 0.8814\n",
            "Epoch 43/70\n",
            "4734/4734 [==============================] - 30s 6ms/step - loss: 0.2823 - categorical_accuracy: 0.8761 - val_loss: 0.3006 - val_categorical_accuracy: 0.8718\n",
            "Epoch 44/70\n",
            "4734/4734 [==============================] - 30s 6ms/step - loss: 0.2809 - categorical_accuracy: 0.8764 - val_loss: 0.3028 - val_categorical_accuracy: 0.8744\n",
            "Epoch 45/70\n",
            "4734/4734 [==============================] - 31s 7ms/step - loss: 0.2795 - categorical_accuracy: 0.8766 - val_loss: 0.2884 - val_categorical_accuracy: 0.8833\n",
            "Epoch 46/70\n",
            "4734/4734 [==============================] - 31s 7ms/step - loss: 0.2792 - categorical_accuracy: 0.8764 - val_loss: 0.2818 - val_categorical_accuracy: 0.8813\n",
            "Epoch 47/70\n",
            "4734/4734 [==============================] - 32s 7ms/step - loss: 0.2779 - categorical_accuracy: 0.8784 - val_loss: 0.3286 - val_categorical_accuracy: 0.8702\n",
            "Epoch 48/70\n",
            "4734/4734 [==============================] - 30s 6ms/step - loss: 0.2754 - categorical_accuracy: 0.8784 - val_loss: 0.2745 - val_categorical_accuracy: 0.8891\n",
            "Epoch 49/70\n",
            "4734/4734 [==============================] - 30s 6ms/step - loss: 0.2730 - categorical_accuracy: 0.8803 - val_loss: 0.2755 - val_categorical_accuracy: 0.8883\n",
            "Epoch 50/70\n",
            "4734/4734 [==============================] - 30s 6ms/step - loss: 0.2717 - categorical_accuracy: 0.8809 - val_loss: 0.2795 - val_categorical_accuracy: 0.8879\n",
            "Epoch 51/70\n",
            "4734/4734 [==============================] - 30s 6ms/step - loss: 0.2703 - categorical_accuracy: 0.8814 - val_loss: 0.2980 - val_categorical_accuracy: 0.8828\n",
            "Epoch 52/70\n",
            "4734/4734 [==============================] - 31s 7ms/step - loss: 0.2695 - categorical_accuracy: 0.8820 - val_loss: 0.2841 - val_categorical_accuracy: 0.8902\n",
            "Epoch 53/70\n",
            "4734/4734 [==============================] - 34s 7ms/step - loss: 0.2680 - categorical_accuracy: 0.8834 - val_loss: 0.2782 - val_categorical_accuracy: 0.8854\n",
            "Epoch 54/70\n",
            "4734/4734 [==============================] - 30s 6ms/step - loss: 0.2655 - categorical_accuracy: 0.8839 - val_loss: 0.2849 - val_categorical_accuracy: 0.8884\n",
            "Epoch 55/70\n",
            "4734/4734 [==============================] - 30s 6ms/step - loss: 0.2640 - categorical_accuracy: 0.8836 - val_loss: 0.2973 - val_categorical_accuracy: 0.8811\n",
            "Epoch 56/70\n",
            "4734/4734 [==============================] - 30s 6ms/step - loss: 0.2632 - categorical_accuracy: 0.8835 - val_loss: 0.2727 - val_categorical_accuracy: 0.8910\n",
            "Epoch 57/70\n",
            "4734/4734 [==============================] - 30s 6ms/step - loss: 0.2618 - categorical_accuracy: 0.8842 - val_loss: 0.2752 - val_categorical_accuracy: 0.8854\n",
            "Epoch 58/70\n",
            "4734/4734 [==============================] - 30s 6ms/step - loss: 0.2600 - categorical_accuracy: 0.8857 - val_loss: 0.2757 - val_categorical_accuracy: 0.8886\n",
            "Epoch 59/70\n",
            "4734/4734 [==============================] - 34s 7ms/step - loss: 0.2600 - categorical_accuracy: 0.8863 - val_loss: 0.3221 - val_categorical_accuracy: 0.8727\n",
            "Epoch 60/70\n",
            "4734/4734 [==============================] - 29s 6ms/step - loss: 0.2586 - categorical_accuracy: 0.8865 - val_loss: 0.3086 - val_categorical_accuracy: 0.8760\n",
            "Epoch 61/70\n",
            "4734/4734 [==============================] - 30s 6ms/step - loss: 0.2569 - categorical_accuracy: 0.8874 - val_loss: 0.2813 - val_categorical_accuracy: 0.8864\n",
            "Epoch 62/70\n",
            "4734/4734 [==============================] - 29s 6ms/step - loss: 0.2544 - categorical_accuracy: 0.8894 - val_loss: 0.3117 - val_categorical_accuracy: 0.8780\n",
            "Epoch 63/70\n",
            "4734/4734 [==============================] - 30s 6ms/step - loss: 0.2541 - categorical_accuracy: 0.8885 - val_loss: 0.2912 - val_categorical_accuracy: 0.8863\n",
            "Epoch 64/70\n",
            "4734/4734 [==============================] - 30s 6ms/step - loss: 0.2526 - categorical_accuracy: 0.8894 - val_loss: 0.2869 - val_categorical_accuracy: 0.8852\n",
            "Epoch 65/70\n",
            "4734/4734 [==============================] - 32s 7ms/step - loss: 0.2529 - categorical_accuracy: 0.8888 - val_loss: 0.2969 - val_categorical_accuracy: 0.8795\n",
            "Epoch 66/70\n",
            "4734/4734 [==============================] - 32s 7ms/step - loss: 0.2495 - categorical_accuracy: 0.8915 - val_loss: 0.3041 - val_categorical_accuracy: 0.8857\n",
            "Epoch 67/70\n",
            "4734/4734 [==============================] - 32s 7ms/step - loss: 0.2489 - categorical_accuracy: 0.8918 - val_loss: 0.2816 - val_categorical_accuracy: 0.8893\n",
            "Epoch 68/70\n",
            "4734/4734 [==============================] - 30s 6ms/step - loss: 0.2492 - categorical_accuracy: 0.8904 - val_loss: 0.2796 - val_categorical_accuracy: 0.8904\n",
            "Epoch 69/70\n",
            "4734/4734 [==============================] - 30s 6ms/step - loss: 0.2462 - categorical_accuracy: 0.8927 - val_loss: 0.2702 - val_categorical_accuracy: 0.8933\n",
            "Epoch 70/70\n",
            "4734/4734 [==============================] - 30s 6ms/step - loss: 0.2448 - categorical_accuracy: 0.8933 - val_loss: 0.2854 - val_categorical_accuracy: 0.8858\n"
          ]
        }
      ],
      "source": [
        "checkpoint = ModelCheckpoint('/content/SNN_0.3.h5', save_best_only=True, monitor='val_categorical_accuracy', mode='max')\n",
        "history = model.fit(\n",
        "    [X_train_features, X_train_area], y_train_one_hot,\n",
        "    validation_data=([X_test_features, X_test_area], y_test_one_hot),\n",
        "    epochs=70,\n",
        "    batch_size = 16,\n",
        "    callbacks=[checkpoint]\n",
        ")\n"
      ]
    },
    {
      "cell_type": "markdown",
      "source": [
        "# Visualize Traning Process"
      ],
      "metadata": {
        "id": "_GFewkE_IkMU"
      }
    },
    {
      "cell_type": "code",
      "source": [
        "plt.plot(history.history['categorical_accuracy'], label='Training Accuracy')\n",
        "plt.plot(history.history['val_categorical_accuracy'], label='Validation Accuracy')\n",
        "plt.title('Model Accuracy')\n",
        "plt.xlabel('Epoch')\n",
        "plt.ylabel('Accuracy')\n",
        "plt.legend(loc='upper left')\n",
        "plt.show()\n",
        "\n",
        "plt.plot(history.history['loss'], label='Training Loss')\n",
        "plt.plot(history.history['val_loss'], label='Validation Loss')\n",
        "plt.title('Model Loss')\n",
        "plt.xlabel('Epoch')\n",
        "plt.ylabel('Loss')\n",
        "plt.legend(loc='upper right')\n",
        "plt.show()"
      ],
      "metadata": {
        "colab": {
          "base_uri": "https://localhost:8080/",
          "height": 927
        },
        "id": "JF55JMa9IgNi",
        "outputId": "985bc078-7846-40ec-a254-8be126f720a9"
      },
      "execution_count": 49,
      "outputs": [
        {
          "output_type": "display_data",
          "data": {
            "text/plain": [
              "<Figure size 640x480 with 1 Axes>"
            ],
            "image/png": "[encoded data removed]"
          },
          "metadata": {}
        },
        {
          "output_type": "display_data",
          "data": {
            "text/plain": [
              "<Figure size 640x480 with 1 Axes>"
            ],
            "image/png": "[encoded data removed]"
          },
          "metadata": {}
        }
      ]
    },
    {
      "cell_type": "markdown",
      "source": [
        "#Evaluating"
      ],
      "metadata": {
        "id": "1NGEKSMXrQ7c"
      }
    },
    {
      "cell_type": "code",
      "execution_count": 50,
      "metadata": {
        "id": "qsmUM61Om1mb",
        "collapsed": true
      },
      "outputs": [],
      "source": [
        "# Load model\n",
        "snn_model = load_model('/content/SNN_0.3.h5',\n",
        "                       custom_objects={'SpikingActivation': SpikingActivation})\n"
      ]
    },
    {
      "cell_type": "code",
      "execution_count": 52,
      "metadata": {
        "colab": {
          "base_uri": "https://localhost:8080/"
        },
        "id": "yUQHOapxWiZn",
        "outputId": "50750b47-a341-4dcd-bf3f-a807a0097018"
      },
      "outputs": [
        {
          "output_type": "stream",
          "name": "stdout",
          "text": [
            "620/620 [==============================] - 9s 3ms/step - loss: 0.2711 - categorical_accuracy: 0.8922\n",
            "Best model test loss: 0.2711007297039032\n",
            "Best model test accuracy: 0.8921672701835632\n"
          ]
        }
      ],
      "source": [
        "from keras.metrics import CategoricalAccuracy\n",
        "from keras.losses import CategoricalCrossentropy\n",
        "snn_model.compile(loss=CategoricalCrossentropy(), metrics=[CategoricalAccuracy()])\n",
        "\n",
        "loss, accuracy = snn_model.evaluate([X_test_features, X_test_area], y_test_one_hot, verbose=1)\n",
        "\n",
        "print(f\"Best model test loss: {loss}\")\n",
        "print(f\"Best model test accuracy: {accuracy}\")"
      ]
    },
    {
      "cell_type": "markdown",
      "source": [
        "#Visualize Neuron Spikes"
      ],
      "metadata": {
        "id": "R9MswoU6rWcV"
      }
    },
    {
      "cell_type": "code",
      "execution_count": 4,
      "metadata": {
        "colab": {
          "base_uri": "https://localhost:8080/",
          "height": 216
        },
        "collapsed": true,
        "id": "btgalstzrke1",
        "outputId": "c9f8a95e-9d2e-40dd-c184-3da31343738a"
      },
      "outputs": [
        {
          "output_type": "error",
          "ename": "NameError",
          "evalue": "name 'snn_model' is not defined",
          "traceback": [
            "\u001b[0;31m---------------------------------------------------------------------------\u001b[0m",
            "\u001b[0;31mNameError\u001b[0m                                 Traceback (most recent call last)",
            "\u001b[0;32m<ipython-input-4-db3fc2dbc162>\u001b[0m in \u001b[0;36m<cell line: 1>\u001b[0;34m()\u001b[0m\n\u001b[0;32m----> 1\u001b[0;31m \u001b[0mpretrained_weights\u001b[0m \u001b[0;34m=\u001b[0m \u001b[0msnn_model\u001b[0m\u001b[0;34m.\u001b[0m\u001b[0mget_weights\u001b[0m\u001b[0;34m(\u001b[0m\u001b[0;34m)\u001b[0m\u001b[0;34m\u001b[0m\u001b[0;34m\u001b[0m\u001b[0m\n\u001b[0m\u001b[1;32m      2\u001b[0m \u001b[0;34m\u001b[0m\u001b[0m\n\u001b[1;32m      3\u001b[0m \u001b[0mclass_names\u001b[0m \u001b[0;34m=\u001b[0m \u001b[0;34m[\u001b[0m\u001b[0;34m'left'\u001b[0m\u001b[0;34m,\u001b[0m \u001b[0;34m'right'\u001b[0m\u001b[0;34m]\u001b[0m\u001b[0;34m\u001b[0m\u001b[0;34m\u001b[0m\u001b[0m\n\u001b[1;32m      4\u001b[0m \u001b[0;32mdef\u001b[0m \u001b[0mbuild_spiking_model\u001b[0m\u001b[0;34m(\u001b[0m\u001b[0minput_shape_64\u001b[0m\u001b[0;34m,\u001b[0m \u001b[0minput_shape_1\u001b[0m\u001b[0;34m,\u001b[0m \u001b[0mdt\u001b[0m \u001b[0;34m=\u001b[0m \u001b[0;36m0.5\u001b[0m\u001b[0;34m)\u001b[0m\u001b[0;34m:\u001b[0m\u001b[0;34m\u001b[0m\u001b[0;34m\u001b[0m\u001b[0m\n\u001b[1;32m      5\u001b[0m     \u001b[0minput_64\u001b[0m \u001b[0;34m=\u001b[0m \u001b[0mtf\u001b[0m\u001b[0;34m.\u001b[0m\u001b[0mkeras\u001b[0m\u001b[0;34m.\u001b[0m\u001b[0mInput\u001b[0m\u001b[0;34m(\u001b[0m\u001b[0mshape\u001b[0m\u001b[0;34m=\u001b[0m\u001b[0minput_shape_64\u001b[0m\u001b[0;34m)\u001b[0m\u001b[0;34m\u001b[0m\u001b[0;34m\u001b[0m\u001b[0m\n",
            "\u001b[0;31mNameError\u001b[0m: name 'snn_model' is not defined"
          ]
        }
      ],
      "source": [
        "pretrained_weights = snn_model.get_weights()\n",
        "\n",
        "class_names = ['left', 'right']\n",
        "def build_spiking_model(input_shape_64, input_shape_1, dt = 0.5):\n",
        "    input_64 = tf.keras.Input(shape=input_shape_64)\n",
        "    input_1 = tf.keras.Input(shape=input_shape_1)\n",
        "\n",
        "    x1 = tf.keras.layers.TimeDistributed(tf.keras.layers.Dense(128))(input_64)\n",
        "    x1 = keras_spiking.SpikingActivation(\"relu\", dt=dt, spiking_aware_training=True)(x1)\n",
        "\n",
        "    x2 = tf.keras.layers.TimeDistributed(tf.keras.layers.Dense(128))(input_1)\n",
        "    x2 = keras_spiking.SpikingActivation(\"relu\", dt=dt, spiking_aware_training=True)(x2)\n",
        "\n",
        "    merged = tf.keras.layers.Concatenate(axis=-1)([x1, x2])\n",
        "    x = tf.keras.layers.TimeDistributed(tf.keras.layers.Dense(64))(merged)\n",
        "    x = keras_spiking.SpikingActivation(\"relu\", dt=dt, spiking_aware_training=True,  return_sequences=True)(x)\n",
        "    x = tf.keras.layers.TimeDistributed(tf.keras.layers.Dense(32))(x)\n",
        "    x = keras_spiking.SpikingActivation(\"relu\", dt=dt, spiking_aware_training=True,  return_sequences=True)(x)\n",
        "    x = tf.keras.layers.TimeDistributed(tf.keras.layers.Dense(16))(x)\n",
        "    spike_layer = keras_spiking.SpikingActivation(\"relu\", dt=dt, spiking_aware_training=True, return_sequences=True)(x)\n",
        "    output = tf.keras.layers.Dense(2)(spike_layer)\n",
        "\n",
        "    model = tf.keras.Model(inputs=[input_64, input_1], outputs=[output, spike_layer])\n",
        "    return model\n",
        "\n",
        "prediction_model = build_spiking_model((None, 64), (None, 1))\n",
        "\n",
        "prediction_model.set_weights(pretrained_weights)\n",
        "\n",
        "output, spikes = prediction_model.predict([X_test_features, X_test_area])\n",
        "\n",
        "time = X_test_features.shape[1] * prediction_model.layers[-4].dt\n",
        "n_spikes = spikes * prediction_model.layers[-4].dt\n",
        "spike_rates = np.sum(n_spikes, axis = 1)/ time\n",
        "print(f\"Spike rate per neuron (Hz): min={spike_rates.min():.2f} mean={spike_rates.mean():.2f} max={spike_rates.max():.2f}\")\n",
        "\n",
        "# Vẽ biểu đồ\n",
        "for i in range(5):  # Vẽ cho 6 mẫu dữ liệu đầu tiên\n",
        "    plt.figure(figsize=(12, 4))\n",
        "\n",
        "    # Biểu đồ input\n",
        "    plt.subplot(1, 3, 1)\n",
        "    plt.imshow(X_test_features[i, 0].reshape(8, 8), cmap='gray')\n",
        "    plt.title(f\"Class: {class_names[actual_classes[i]]}\")\n",
        "    plt.axis('off')\n",
        "\n",
        "    # Biểu đồ số spikes\n",
        "    plt.subplot(1, 3, 2)\n",
        "    plt.title(\"Spikes per neuron per timestep\")\n",
        "    bin_edges = np.arange(int(np.max(spikes[i])) + 2) - 0.5\n",
        "    plt.hist(np.ravel(spikes[i]), bins=bin_edges)\n",
        "    plt.xlabel(\"# of spikes\")\n",
        "    plt.ylabel(\"Frequency\")\n",
        "\n",
        "    # Biểu đồ dự đoán và nhãn dự đoán\n",
        "    plt.subplot(1, 3, 3)\n",
        "    plt.title(\"Output predictions\")\n",
        "    softmax_output = tf.nn.softmax(output[i], axis=1).numpy()\n",
        "    time_points = np.arange(X_test_features.shape[1]) * prediction_model.layers[-4].dt\n",
        "    plt.plot(time_points, softmax_output)\n",
        "    plt.xlabel(\"Time (s)\")\n",
        "    plt.ylabel(\"Probability\")\n",
        "    plt.legend(class_names, loc=\"upper left\")\n",
        "    plt.ylim([-0.05, 1.05])\n",
        "\n",
        "    # Lấy nhãn dự đoán cuối cùng từ softmax output\n",
        "    final_prediction_index = np.argmax(softmax_output[-1])\n",
        "    final_prediction_label = class_names[final_prediction_index]\n",
        "\n",
        "    # Thêm nhãn dự đoán vào biểu đồ\n",
        "    plt.text(time_points[-1], softmax_output[-1, final_prediction_index],\n",
        "             f'{final_prediction_label}', fontsize=12, ha='right', va='bottom')\n",
        "\n",
        "    plt.tight_layout()\n",
        "    plt.show()"
      ]
    },
    {
      "cell_type": "markdown",
      "source": [
        "#Estimate energy consumption"
      ],
      "metadata": {
        "id": "ZsCXGYaeraOj"
      }
    },
    {
      "cell_type": "code",
      "source": [
        "# In ra các thiết bị đã đăng ký và thông số của chúng\n",
        "print(keras_spiking.ModelEnergy.devices)"
      ],
      "metadata": {
        "id": "3Jmlin5wrlsM"
      },
      "execution_count": null,
      "outputs": []
    },
    {
      "cell_type": "code",
      "execution_count": null,
      "metadata": {
        "colab": {
          "base_uri": "https://localhost:8080/"
        },
        "id": "QZH4eXvZ7Wkw",
        "outputId": "b3167341-b319-482c-af1f-1a38fab9d4ad",
        "collapsed": true
      },
      "outputs": [
        {
          "output_type": "stream",
          "name": "stderr",
          "text": [
            "/usr/local/lib/python3.10/dist-packages/keras_spiking/model_energy.py:773: UserWarning: Cannot compute stats for layer of type 'Concatenate'.Use `ModelEnergy.register_layer` to register this layer.\n",
            "  warnings.warn(\n"
          ]
        },
        {
          "output_type": "stream",
          "name": "stdout",
          "text": [
            "1/1 [==============================] - 2s 2s/step\n",
            "Layer (type)    |Rate [Hz]|J/inf (cpu)|J/inf (gpu)|J/inf (loih|J/inf (spin|J/inf (spin|J/inf (arm)\n",
            "----------------|---------|-----------|-----------|-----------|-----------|-----------|-----------\n",
            "input_1 (InputLa|        1|          0|          0|          0|          0|          0|          0\n",
            "input_2 (InputLa|        1|          0|          0|          0|          0|          0|          0\n",
            "time_distributed|        1|      7e-05|    2.5e-06|    3.3e-07|    0.00016|    5.5e-06|    7.4e-06\n",
            "time_distributed|        1|    1.1e-06|    3.8e-08|    5.2e-09|    2.6e-06|    8.6e-08|    1.2e-07\n",
            "spiking_activati|     0.61|    1.1e-06|    3.8e-08|    5.2e-08|    1.7e-05|    1.4e-06|    1.2e-07\n",
            "spiking_activati|     0.12|    1.1e-06|    3.8e-08|    5.2e-08|    1.7e-05|    1.4e-06|    1.2e-07\n",
            "concatenate (Con|     0.18|          0|          0|          0|          0|          0|          0\n",
            "time_distributed|     0.18|    0.00014|    4.9e-06|    1.2e-07|    5.7e-05|    1.9e-06|    1.5e-05\n",
            "spiking_activati|     0.76|    5.5e-07|    1.9e-08|    2.6e-08|    8.3e-06|      7e-07|    5.8e-08\n",
            "time_distributed|     0.35|    1.8e-05|    6.1e-07|    2.9e-08|    1.4e-05|    4.8e-07|    1.8e-06\n",
            "spiking_activati|     0.92|    2.8e-07|    9.6e-09|    1.3e-08|    4.2e-06|    3.5e-07|    2.9e-08\n",
            "time_distributed|     0.52|    4.4e-06|    1.5e-07|    1.1e-08|    5.3e-06|    1.8e-07|    4.6e-07\n",
            "spiking_activati|      1.1|    1.4e-07|    4.8e-09|    6.5e-09|    2.1e-06|    1.8e-07|    1.4e-08\n",
            "global_average_p|     0.55|          0|          0|          0|          0|          0|          0\n",
            "dense_5 (Dense) |     0.55|    2.9e-07|      1e-08|    1.5e-09|    6.1e-07|    3.4e-08|    3.1e-08\n",
            "==================================================================================================\n",
            "Total energy per inference [Joules/inf] (cpu): 2.38e-04\n",
            "Total energy per inference [Joules/inf] (gpu): 8.30e-06\n",
            "Total energy per inference [Joules/inf] (loihi): 6.45e-07\n",
            "Total energy per inference [Joules/inf] (spinnaker): 2.91e-04\n",
            "Total energy per inference [Joules/inf] (spinnaker2): 1.23e-05\n",
            "Total energy per inference [Joules/inf] (arm): 2.49e-05\n"
          ]
        }
      ],
      "source": [
        "n_steps = 5\n",
        "example_data = [np.ones((32, n_steps, 64)), np.ones((32, n_steps, 1))]\n",
        "\n",
        "# Ước tính mức tiêu thụ năng lượng\n",
        "energy = keras_spiking.ModelEnergy(model, example_data=example_data)\n",
        "\n",
        "# Hiển thị mức tiêu thụ năng lượng\n",
        "energy.summary(\n",
        "    columns=(\n",
        "        \"name\",\n",
        "        \"rate\",\n",
        "        \"energy cpu\",\n",
        "        \"energy gpu\",\n",
        "        \"energy loihi\",\n",
        "        \"energy spinnaker\",\n",
        "        \"energy spinnaker2\",\n",
        "        \"energy arm\"\n",
        "    ),\n",
        "    dt = 0.3,\n",
        "    timesteps_per_inference = 5,\n",
        "    print_warnings=False,\n",
        ")"
      ]
    },
    {
      "cell_type": "code",
      "execution_count": null,
      "metadata": {
        "colab": {
          "base_uri": "https://localhost:8080/",
          "height": 883
        },
        "id": "QLf79LXy8_Wo",
        "outputId": "aa24536f-3dcc-4046-f234-598cd9785074",
        "collapsed": true
      },
      "outputs": [
        {
          "output_type": "error",
          "ename": "ValueError",
          "evalue": "in user code:\n\n    File \"/usr/local/lib/python3.10/dist-packages/keras/src/engine/training.py\", line 2440, in predict_function  *\n        return step_function(self, iterator)\n    File \"/usr/local/lib/python3.10/dist-packages/keras/src/engine/training.py\", line 2425, in step_function  **\n        outputs = model.distribute_strategy.run(run_step, args=(data,))\n    File \"/usr/local/lib/python3.10/dist-packages/keras/src/engine/training.py\", line 2413, in run_step  **\n        outputs = model.predict_step(data)\n    File \"/usr/local/lib/python3.10/dist-packages/keras/src/engine/training.py\", line 2381, in predict_step\n        return self(x, training=False)\n    File \"/usr/local/lib/python3.10/dist-packages/keras/src/utils/traceback_utils.py\", line 70, in error_handler\n        raise e.with_traceback(filtered_tb) from None\n    File \"/usr/local/lib/python3.10/dist-packages/keras/src/engine/input_spec.py\", line 298, in assert_input_compatibility\n        raise ValueError(\n\n    ValueError: Input 0 of layer \"model_58\" is incompatible with the layer: expected shape=(None, 10, 64), found shape=(32, 1, 64)\n",
          "traceback": [
            "\u001b[0;31m---------------------------------------------------------------------------\u001b[0m",
            "\u001b[0;31mValueError\u001b[0m                                Traceback (most recent call last)",
            "\u001b[0;32m<ipython-input-93-337857cc41a4>\u001b[0m in \u001b[0;36m<cell line: 4>\u001b[0;34m()\u001b[0m\n\u001b[1;32m      2\u001b[0m \u001b[0;34m\u001b[0m\u001b[0m\n\u001b[1;32m      3\u001b[0m \u001b[0;31m# Ước tính mức tiêu thụ năng lượng\u001b[0m\u001b[0;34m\u001b[0m\u001b[0;34m\u001b[0m\u001b[0m\n\u001b[0;32m----> 4\u001b[0;31m \u001b[0menergy\u001b[0m \u001b[0;34m=\u001b[0m \u001b[0mkeras_spiking\u001b[0m\u001b[0;34m.\u001b[0m\u001b[0mModelEnergy\u001b[0m\u001b[0;34m(\u001b[0m\u001b[0mmodel\u001b[0m\u001b[0;34m,\u001b[0m \u001b[0mexample_data\u001b[0m\u001b[0;34m=\u001b[0m\u001b[0mexample_data\u001b[0m\u001b[0;34m)\u001b[0m\u001b[0;34m\u001b[0m\u001b[0;34m\u001b[0m\u001b[0m\n\u001b[0m\u001b[1;32m      5\u001b[0m \u001b[0;34m\u001b[0m\u001b[0m\n\u001b[1;32m      6\u001b[0m \u001b[0;31m# Hiển thị mức tiêu thụ năng lượng\u001b[0m\u001b[0;34m\u001b[0m\u001b[0;34m\u001b[0m\u001b[0m\n",
            "\u001b[0;32m/usr/local/lib/python3.10/dist-packages/keras_spiking/model_energy.py\u001b[0m in \u001b[0;36m__init__\u001b[0;34m(self, model, example_data)\u001b[0m\n\u001b[1;32m    203\u001b[0m             \u001b[0mself\u001b[0m\u001b[0;34m.\u001b[0m\u001b[0mlayer_rates\u001b[0m \u001b[0;34m=\u001b[0m \u001b[0;34m{\u001b[0m\u001b[0;34m}\u001b[0m\u001b[0;34m\u001b[0m\u001b[0;34m\u001b[0m\u001b[0m\n\u001b[1;32m    204\u001b[0m         \u001b[0;32melse\u001b[0m\u001b[0;34m:\u001b[0m\u001b[0;34m\u001b[0m\u001b[0;34m\u001b[0m\u001b[0m\n\u001b[0;32m--> 205\u001b[0;31m             \u001b[0mself\u001b[0m\u001b[0;34m.\u001b[0m\u001b[0m_compute_model_rates\u001b[0m\u001b[0;34m(\u001b[0m\u001b[0;34m)\u001b[0m\u001b[0;34m\u001b[0m\u001b[0;34m\u001b[0m\u001b[0m\n\u001b[0m\u001b[1;32m    206\u001b[0m \u001b[0;34m\u001b[0m\u001b[0m\n\u001b[1;32m    207\u001b[0m     \u001b[0;34m@\u001b[0m\u001b[0mclassmethod\u001b[0m\u001b[0;34m\u001b[0m\u001b[0;34m\u001b[0m\u001b[0m\n",
            "\u001b[0;32m/usr/local/lib/python3.10/dist-packages/keras_spiking/model_energy.py\u001b[0m in \u001b[0;36m_compute_model_rates\u001b[0;34m(self)\u001b[0m\n\u001b[1;32m    372\u001b[0m \u001b[0;34m\u001b[0m\u001b[0m\n\u001b[1;32m    373\u001b[0m         \u001b[0mlayer_model\u001b[0m \u001b[0;34m=\u001b[0m \u001b[0mtf\u001b[0m\u001b[0;34m.\u001b[0m\u001b[0mkeras\u001b[0m\u001b[0;34m.\u001b[0m\u001b[0mModel\u001b[0m\u001b[0;34m(\u001b[0m\u001b[0mself\u001b[0m\u001b[0;34m.\u001b[0m\u001b[0mmodel\u001b[0m\u001b[0;34m.\u001b[0m\u001b[0minputs\u001b[0m\u001b[0;34m,\u001b[0m \u001b[0mlayer_inputs\u001b[0m\u001b[0;34m)\u001b[0m\u001b[0;34m\u001b[0m\u001b[0;34m\u001b[0m\u001b[0m\n\u001b[0;32m--> 374\u001b[0;31m         \u001b[0mrates\u001b[0m \u001b[0;34m=\u001b[0m \u001b[0mlayer_model\u001b[0m\u001b[0;34m.\u001b[0m\u001b[0mpredict\u001b[0m\u001b[0;34m(\u001b[0m\u001b[0mself\u001b[0m\u001b[0;34m.\u001b[0m\u001b[0mexample_data\u001b[0m\u001b[0;34m)\u001b[0m\u001b[0;34m\u001b[0m\u001b[0;34m\u001b[0m\u001b[0m\n\u001b[0m\u001b[1;32m    375\u001b[0m \u001b[0;34m\u001b[0m\u001b[0m\n\u001b[1;32m    376\u001b[0m         \u001b[0;32mfor\u001b[0m \u001b[0mlayer\u001b[0m\u001b[0;34m,\u001b[0m \u001b[0mrates_in\u001b[0m \u001b[0;32min\u001b[0m \u001b[0mzip\u001b[0m\u001b[0;34m(\u001b[0m\u001b[0mself\u001b[0m\u001b[0;34m.\u001b[0m\u001b[0mmodel\u001b[0m\u001b[0;34m.\u001b[0m\u001b[0mlayers\u001b[0m\u001b[0;34m,\u001b[0m \u001b[0mrates\u001b[0m\u001b[0;34m)\u001b[0m\u001b[0;34m:\u001b[0m\u001b[0;34m\u001b[0m\u001b[0;34m\u001b[0m\u001b[0m\n",
            "\u001b[0;32m/usr/local/lib/python3.10/dist-packages/keras/src/utils/traceback_utils.py\u001b[0m in \u001b[0;36merror_handler\u001b[0;34m(*args, **kwargs)\u001b[0m\n\u001b[1;32m     68\u001b[0m             \u001b[0;31m# To get the full stack trace, call:\u001b[0m\u001b[0;34m\u001b[0m\u001b[0;34m\u001b[0m\u001b[0m\n\u001b[1;32m     69\u001b[0m             \u001b[0;31m# `tf.debugging.disable_traceback_filtering()`\u001b[0m\u001b[0;34m\u001b[0m\u001b[0;34m\u001b[0m\u001b[0m\n\u001b[0;32m---> 70\u001b[0;31m             \u001b[0;32mraise\u001b[0m \u001b[0me\u001b[0m\u001b[0;34m.\u001b[0m\u001b[0mwith_traceback\u001b[0m\u001b[0;34m(\u001b[0m\u001b[0mfiltered_tb\u001b[0m\u001b[0;34m)\u001b[0m \u001b[0;32mfrom\u001b[0m \u001b[0;32mNone\u001b[0m\u001b[0;34m\u001b[0m\u001b[0;34m\u001b[0m\u001b[0m\n\u001b[0m\u001b[1;32m     71\u001b[0m         \u001b[0;32mfinally\u001b[0m\u001b[0;34m:\u001b[0m\u001b[0;34m\u001b[0m\u001b[0;34m\u001b[0m\u001b[0m\n\u001b[1;32m     72\u001b[0m             \u001b[0;32mdel\u001b[0m \u001b[0mfiltered_tb\u001b[0m\u001b[0;34m\u001b[0m\u001b[0;34m\u001b[0m\u001b[0m\n",
            "\u001b[0;32m/usr/local/lib/python3.10/dist-packages/keras/src/engine/training.py\u001b[0m in \u001b[0;36mtf__predict_function\u001b[0;34m(iterator)\u001b[0m\n\u001b[1;32m     13\u001b[0m                 \u001b[0;32mtry\u001b[0m\u001b[0;34m:\u001b[0m\u001b[0;34m\u001b[0m\u001b[0;34m\u001b[0m\u001b[0m\n\u001b[1;32m     14\u001b[0m                     \u001b[0mdo_return\u001b[0m \u001b[0;34m=\u001b[0m \u001b[0;32mTrue\u001b[0m\u001b[0;34m\u001b[0m\u001b[0;34m\u001b[0m\u001b[0m\n\u001b[0;32m---> 15\u001b[0;31m                     \u001b[0mretval_\u001b[0m \u001b[0;34m=\u001b[0m \u001b[0mag__\u001b[0m\u001b[0;34m.\u001b[0m\u001b[0mconverted_call\u001b[0m\u001b[0;34m(\u001b[0m\u001b[0mag__\u001b[0m\u001b[0;34m.\u001b[0m\u001b[0mld\u001b[0m\u001b[0;34m(\u001b[0m\u001b[0mstep_function\u001b[0m\u001b[0;34m)\u001b[0m\u001b[0;34m,\u001b[0m \u001b[0;34m(\u001b[0m\u001b[0mag__\u001b[0m\u001b[0;34m.\u001b[0m\u001b[0mld\u001b[0m\u001b[0;34m(\u001b[0m\u001b[0mself\u001b[0m\u001b[0;34m)\u001b[0m\u001b[0;34m,\u001b[0m \u001b[0mag__\u001b[0m\u001b[0;34m.\u001b[0m\u001b[0mld\u001b[0m\u001b[0;34m(\u001b[0m\u001b[0miterator\u001b[0m\u001b[0;34m)\u001b[0m\u001b[0;34m)\u001b[0m\u001b[0;34m,\u001b[0m \u001b[0;32mNone\u001b[0m\u001b[0;34m,\u001b[0m \u001b[0mfscope\u001b[0m\u001b[0;34m)\u001b[0m\u001b[0;34m\u001b[0m\u001b[0;34m\u001b[0m\u001b[0m\n\u001b[0m\u001b[1;32m     16\u001b[0m                 \u001b[0;32mexcept\u001b[0m\u001b[0;34m:\u001b[0m\u001b[0;34m\u001b[0m\u001b[0;34m\u001b[0m\u001b[0m\n\u001b[1;32m     17\u001b[0m                     \u001b[0mdo_return\u001b[0m \u001b[0;34m=\u001b[0m \u001b[0;32mFalse\u001b[0m\u001b[0;34m\u001b[0m\u001b[0;34m\u001b[0m\u001b[0m\n",
            "\u001b[0;31mValueError\u001b[0m: in user code:\n\n    File \"/usr/local/lib/python3.10/dist-packages/keras/src/engine/training.py\", line 2440, in predict_function  *\n        return step_function(self, iterator)\n    File \"/usr/local/lib/python3.10/dist-packages/keras/src/engine/training.py\", line 2425, in step_function  **\n        outputs = model.distribute_strategy.run(run_step, args=(data,))\n    File \"/usr/local/lib/python3.10/dist-packages/keras/src/engine/training.py\", line 2413, in run_step  **\n        outputs = model.predict_step(data)\n    File \"/usr/local/lib/python3.10/dist-packages/keras/src/engine/training.py\", line 2381, in predict_step\n        return self(x, training=False)\n    File \"/usr/local/lib/python3.10/dist-packages/keras/src/utils/traceback_utils.py\", line 70, in error_handler\n        raise e.with_traceback(filtered_tb) from None\n    File \"/usr/local/lib/python3.10/dist-packages/keras/src/engine/input_spec.py\", line 298, in assert_input_compatibility\n        raise ValueError(\n\n    ValueError: Input 0 of layer \"model_58\" is incompatible with the layer: expected shape=(None, 10, 64), found shape=(32, 1, 64)\n"
          ]
        }
      ],
      "source": [
        "example_data = [np.ones((32, 1, 64)), np.ones((32, 1, 1))]\n",
        "\n",
        "# Ước tính mức tiêu thụ năng lượng\n",
        "energy = keras_spiking.ModelEnergy(model, example_data=example_data)\n",
        "\n",
        "# Hiển thị mức tiêu thụ năng lượng\n",
        "energy.summary(\n",
        "    columns=(\n",
        "        \"name\",\n",
        "        \"rate\",\n",
        "        \"energy cpu\",\n",
        "        \"energy gpu\",\n",
        "        \"energy loihi\",\n",
        "    ),\n",
        "    timesteps_per_inference=5,\n",
        "    dt = 2,\n",
        "    print_warnings=False,\n",
        ")"
      ]
    },
    {
      "cell_type": "code",
      "execution_count": null,
      "metadata": {
        "colab": {
          "base_uri": "https://localhost:8080/"
        },
        "id": "4U7KW-CC8_9Q",
        "outputId": "cdecbe71-62f3-4d38-a978-6e9b1f25b9eb"
      },
      "outputs": [
        {
          "output_type": "stream",
          "name": "stdout",
          "text": [
            "Layer (type)      |J/inf (cpu)|J/inf (gpu)|Synop J/inf (|Synop J/inf (|Neuron J/inf |Neuron J/inf \n",
            "------------------|-----------|-----------|-------------|-------------|-------------|-------------\n",
            "input_1 (InputLaye|          0|          0|            0|            0|            0|            0\n",
            "input_2 (InputLaye|          0|          0|            0|            0|            0|            0\n",
            "time_distributed (|      7e-05|    2.5e-06|        7e-05|      2.5e-06|            0|            0\n",
            "time_distributed_1|    1.1e-06|    3.8e-08|      1.1e-06|      3.8e-08|            0|            0\n",
            "spiking_activation|    1.1e-06|    3.8e-08|            0|            0|      1.1e-06|      3.8e-08\n",
            "spiking_activation|    1.1e-06|    3.8e-08|            0|            0|      1.1e-06|      3.8e-08\n",
            "concatenate (Conca|          0|          0|            0|            0|            0|            0\n",
            "time_distributed_2|    0.00014|    4.9e-06|      0.00014|      4.9e-06|            0|            0\n",
            "spiking_activation|    5.5e-07|    1.9e-08|            0|            0|      5.5e-07|      1.9e-08\n",
            "time_distributed_3|    1.8e-05|    6.1e-07|      1.8e-05|      6.1e-07|            0|            0\n",
            "spiking_activation|    2.8e-07|    9.6e-09|            0|            0|      2.8e-07|      9.6e-09\n",
            "time_distributed_4|    4.4e-06|    1.5e-07|      4.4e-06|      1.5e-07|            0|            0\n",
            "spiking_activation|    1.4e-07|    4.8e-09|            0|            0|      1.4e-07|      4.8e-09\n",
            "global_average_poo|          0|          0|            0|            0|            0|            0\n",
            "dense_5 (Dense)   |    2.9e-07|      1e-08|      2.8e-07|      9.6e-09|      1.7e-08|        6e-10\n",
            "==================================================================================================\n",
            "Total energy per inference [Joules/inf] (cpu): 2.38e-04\n",
            "Total energy per inference [Joules/inf] (gpu): 8.30e-06\n"
          ]
        }
      ],
      "source": [
        "energy.summary(\n",
        "    columns=(\n",
        "        \"name\",\n",
        "        \"energy cpu\",\n",
        "        \"energy gpu\",\n",
        "        \"synop_energy cpu\",\n",
        "        \"synop_energy gpu\",\n",
        "        \"neuron_energy cpu\",\n",
        "        \"neuron_energy gpu\",\n",
        "    ),\n",
        "    print_warnings=False,\n",
        ")\n"
      ]
    },
    {
      "cell_type": "code",
      "execution_count": null,
      "metadata": {
        "id": "9_NWzHEb9Bd3",
        "colab": {
          "base_uri": "https://localhost:8080/"
        },
        "outputId": "0b58d5b2-c4e7-4adf-9b0b-a8d82cc29e11",
        "collapsed": true
      },
      "outputs": [
        {
          "output_type": "stream",
          "name": "stdout",
          "text": [
            "CPU Info:\n",
            " Architecture:             x86_64\n",
            "  CPU op-mode(s):         32-bit, 64-bit\n",
            "  Address sizes:          46 bits physical, 48 bits virtual\n",
            "  Byte Order:             Little Endian\n",
            "CPU(s):                   2\n",
            "  On-line CPU(s) list:    0,1\n",
            "Vendor ID:                GenuineIntel\n",
            "  Model name:             Intel(R) Xeon(R) CPU @ 2.20GHz\n",
            "    CPU family:           6\n",
            "    Model:                79\n",
            "    Thread(s) per core:   2\n",
            "    Core(s) per socket:   1\n",
            "    Socket(s):            1\n",
            "    Stepping:             0\n",
            "    BogoMIPS:             4399.99\n",
            "    Flags:                fpu vme de pse tsc msr pae mce cx8 apic sep mtrr pge mca cmov pat pse36 cl\n",
            "                          flush mmx fxsr sse sse2 ss ht syscall nx pdpe1gb rdtscp lm constant_tsc re\n",
            "                          p_good nopl xtopology nonstop_tsc cpuid tsc_known_freq pni pclmulqdq ssse3\n",
            "                           fma cx16 pcid sse4_1 sse4_2 x2apic movbe popcnt aes xsave avx f16c rdrand\n",
            "                           hypervisor lahf_lm abm 3dnowprefetch invpcid_single ssbd ibrs ibpb stibp \n",
            "                          fsgsbase tsc_adjust bmi1 hle avx2 smep bmi2 erms invpcid rtm rdseed adx sm\n",
            "                          ap xsaveopt arat md_clear arch_capabilities\n",
            "Virtualization features:  \n",
            "  Hypervisor vendor:      KVM\n",
            "  Virtualization type:    full\n",
            "Caches (sum of all):      \n",
            "  L1d:                    32 KiB (1 instance)\n",
            "  L1i:                    32 KiB (1 instance)\n",
            "  L2:                     256 KiB (1 instance)\n",
            "  L3:                     55 MiB (1 instance)\n",
            "NUMA:                     \n",
            "  NUMA node(s):           1\n",
            "  NUMA node0 CPU(s):      0,1\n",
            "Vulnerabilities:          \n",
            "  Gather data sampling:   Not affected\n",
            "  Itlb multihit:          Not affected\n",
            "  L1tf:                   Mitigation; PTE Inversion\n",
            "  Mds:                    Vulnerable; SMT Host state unknown\n",
            "  Meltdown:               Vulnerable\n",
            "  Mmio stale data:        Vulnerable\n",
            "  Reg file data sampling: Not affected\n",
            "  Retbleed:               Vulnerable\n",
            "  Spec rstack overflow:   Not affected\n",
            "  Spec store bypass:      Vulnerable\n",
            "  Spectre v1:             Vulnerable: __user pointer sanitization and usercopy barriers only; no swa\n",
            "                          pgs barriers\n",
            "  Spectre v2:             Vulnerable; IBPB: disabled; STIBP: disabled; PBRSB-eIBRS: Not affected; BH\n",
            "                          I: Vulnerable (Syscall hardening enabled)\n",
            "  Srbds:                  Not affected\n",
            "  Tsx async abort:        Vulnerable\n",
            "Số nhân vật lý: 1\n",
            "Số luồng: 2\n",
            "Dung lượng RAM: 12.67477035522461 GB\n"
          ]
        }
      ],
      "source": [
        "import os\n",
        "import psutil\n",
        "\n",
        "# Kiểm tra loại CPU\n",
        "cpu_info = !lscpu\n",
        "cpu_info = \"\\n\".join(cpu_info)\n",
        "print(\"CPU Info:\\n\", cpu_info)\n",
        "\n",
        "# Kiểm tra số lượng nhân và luồng\n",
        "print(\"Số nhân vật lý:\", psutil.cpu_count(logical=False))\n",
        "print(\"Số luồng:\", psutil.cpu_count(logical=True))\n",
        "\n",
        "# Kiểm tra dung lượng RAM\n",
        "print(\"Dung lượng RAM:\", psutil.virtual_memory().total / (1024**3), \"GB\")\n"
      ]
    }
  ],
  "metadata": {
    "colab": {
      "provenance": []
    },
    "kernelspec": {
      "display_name": "Python 3",
      "name": "python3"
    },
    "language_info": {
      "name": "python"
    }
  },
  "nbformat": 4,
  "nbformat_minor": 0
}